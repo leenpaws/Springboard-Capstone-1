{
 "cells": [
  {
   "cell_type": "markdown",
   "metadata": {},
   "source": [
    "LOAD ALL FILES INTO INDIVIDUAL DATA FRAMES AND LOOK FOR COMMONALITIES"
   ]
  },
  {
   "cell_type": "code",
   "execution_count": 49,
   "metadata": {
    "collapsed": true
   },
   "outputs": [],
   "source": [
    "import pandas as pd\n",
    "import numpy as np\n",
    "%matplotlib inline\n",
    "import sys\n",
    "import pandas as pd\n",
    "import numpy as np\n",
    "import matplotlib.pyplot as plt\n",
    "import bokeh.plotting as bkp\n",
    "import json\n",
    "from pandas.io.json import json_normalize"
   ]
  },
  {
   "cell_type": "markdown",
   "metadata": {},
   "source": [
    "LOAD ALL FILES INTO INDIVIDUAL DATA FRAMES AND LOOK FOR COMMONALITIES"
   ]
  },
  {
   "cell_type": "code",
   "execution_count": 50,
   "metadata": {},
   "outputs": [],
   "source": [
    "CIA_Pakistan_csv = open('Drone_Data/CIA and US military drone strikes in Pakistan, 2004 to present - '\n",
    "                        'Drone strikes data.csv', mode='r')\n",
    "US_Somalia_csv = open('Drone_Data/US strikes in Somalia, 2007 to present - All US actions.csv', mode='r')\n",
    "US_Yemen_csv = open('Drone_Data/US strikes in Yemen, 2002 to present - All US actions.csv', mode='r')\n",
    "US_Afghanistan_csv = open('Drone_Data/Afghanistan_ US air and drone strikes, 2015 to present - '\n",
    "                          'Bureau data_ US strikes.csv', mode='r')"
   ]
  },
  {
   "cell_type": "code",
   "execution_count": 51,
   "metadata": {},
   "outputs": [],
   "source": [
    "CIA_Pakistan_data = pd.read_csv(CIA_Pakistan_csv)\n",
    "US_Somalia_data = pd.read_csv(US_Somalia_csv)\n",
    "US_Yemen_data = _data = pd.read_csv(US_Yemen_csv)\n",
    "US_Afghanistan_data = pd.read_csv(US_Afghanistan_csv)"
   ]
  },
  {
   "cell_type": "code",
   "execution_count": null,
   "metadata": {
    "collapsed": false
   },
   "outputs": [
    {
     "data": {
      "text/html": [
       "<div>\n",
       "<style scoped>\n",
       "    .dataframe tbody tr th:only-of-type {\n",
       "        vertical-align: middle;\n",
       "    }\n",
       "\n",
       "    .dataframe tbody tr th {\n",
       "        vertical-align: top;\n",
       "    }\n",
       "\n",
       "    .dataframe thead th {\n",
       "        text-align: right;\n",
       "    }\n",
       "</style>\n",
       "<table border=\"1\" class=\"dataframe\">\n",
       "  <thead>\n",
       "    <tr style=\"text-align: right;\">\n",
       "      <th></th>\n",
       "      <th>Strike ID</th>\n",
       "      <th>Date</th>\n",
       "      <th>Location</th>\n",
       "      <th>Area</th>\n",
       "      <th>Minimum total people killed</th>\n",
       "      <th>Maximum total people killed</th>\n",
       "      <th>Minimum civilians reported killed</th>\n",
       "      <th>Maximum civilians reported killed</th>\n",
       "      <th>Minimum children reported killed</th>\n",
       "      <th>Maximum children reported killed</th>\n",
       "      <th>Minimum reported injured</th>\n",
       "      <th>Maximum reported injured</th>\n",
       "      <th>Strike link</th>\n",
       "      <th>Unnamed: 13</th>\n",
       "      <th>Index</th>\n",
       "    </tr>\n",
       "  </thead>\n",
       "  <tbody>\n",
       "  </tbody>\n",
       "</table>\n",
       "</div>"
      ],
      "text/plain": [
       "<div>\n",
       "<style scoped>\n",
       "    .dataframe tbody tr th:only-of-type {\n",
       "        vertical-align: middle;\n",
       "    }\n",
       "\n",
       "    .dataframe tbody tr th {\n",
       "        vertical-align: top;\n",
       "    }\n",
       "\n",
       "    .dataframe thead th {\n",
       "        text-align: right;\n",
       "    }\n",
       "</style>\n",
       "<table border=\"1\" class=\"dataframe\">\n",
       "  <thead>\n",
       "    <tr style=\"text-align: right;\">\n",
       "      <th></th>\n",
       "      <th>Strike ID</th>\n",
       "      <th>Date</th>\n",
       "      <th>Location</th>\n",
       "      <th>Area</th>\n",
       "      <th>Minimum total people killed</th>\n",
       "      <th>Maximum total people killed</th>\n",
       "      <th>Minimum civilians reported killed</th>\n",
       "      <th>Maximum civilians reported killed</th>\n",
       "      <th>Minimum children reported killed</th>\n",
       "      <th>Maximum children reported killed</th>\n",
       "      <th>Minimum reported injured</th>\n",
       "      <th>Maximum reported injured</th>\n",
       "      <th>Strike link</th>\n",
       "      <th>Unnamed: 13</th>\n",
       "      <th>Index</th>\n",
       "    </tr>\n",
       "  </thead>\n",
       "  <tbody>\n",
       "  </tbody>\n",
       "</table>\n",
       "</div>"
      ]
     },
     "execution_count": 55,
     "metadata": {},
     "output_type": "execute_result"
    }
   ],
   "source": [
    "CIA_Pakistan_data.head(0) "
   ]
  },
  {
   "cell_type": "code",
   "execution_count": 77,
   "metadata": {
    "collapsed": false
   },
   "outputs": [
    {
     "data": {
      "text/html": [
       "<div>\n",
       "<style scoped>\n",
       "    .dataframe tbody tr th:only-of-type {\n",
       "        vertical-align: middle;\n",
       "    }\n",
       "\n",
       "    .dataframe tbody tr th {\n",
       "        vertical-align: top;\n",
       "    }\n",
       "\n",
       "    .dataframe thead th {\n",
       "        text-align: right;\n",
       "    }\n",
       "</style>\n",
       "<table border=\"1\" class=\"dataframe\">\n",
       "  <thead>\n",
       "    <tr style=\"text-align: right;\">\n",
       "      <th></th>\n",
       "      <th>Unnamed: 0</th>\n",
       "      <th>Date</th>\n",
       "      <th>Location</th>\n",
       "      <th>Confirmed/\n",
       "possible US strike</th>\n",
       "      <th>Air strike?</th>\n",
       "      <th>Drone strike</th>\n",
       "      <th>Strike type</th>\n",
       "      <th>Minimum strikes</th>\n",
       "      <th>Maximum strikes</th>\n",
       "      <th>Minimum people killed</th>\n",
       "      <th>Maximum people killed</th>\n",
       "      <th>Minimum civilians killed</th>\n",
       "      <th>Maximum civilians killed</th>\n",
       "      <th>Minimum children killed</th>\n",
       "      <th>Maximum children killed</th>\n",
       "      <th>Minimum people injured</th>\n",
       "      <th>Maximum people injured</th>\n",
       "      <th>Strike link</th>\n",
       "      <th>Unnamed: 18</th>\n",
       "      <th>Index</th>\n",
       "    </tr>\n",
       "  </thead>\n",
       "  <tbody>\n",
       "  </tbody>\n",
       "</table>\n",
       "</div>"
      ],
      "text/plain": [
       "<div>\n",
       "<style scoped>\n",
       "    .dataframe tbody tr th:only-of-type {\n",
       "        vertical-align: middle;\n",
       "    }\n",
       "\n",
       "    .dataframe tbody tr th {\n",
       "        vertical-align: top;\n",
       "    }\n",
       "\n",
       "    .dataframe thead th {\n",
       "        text-align: right;\n",
       "    }\n",
       "</style>\n",
       "<table border=\"1\" class=\"dataframe\">\n",
       "  <thead>\n",
       "    <tr style=\"text-align: right;\">\n",
       "      <th></th>\n",
       "      <th>Unnamed: 0</th>\n",
       "      <th>Date</th>\n",
       "      <th>Location</th>\n",
       "      <th>Confirmed/\n",
       "possible US strike</th>\n",
       "      <th>Air strike?</th>\n",
       "      <th>Drone strike</th>\n",
       "      <th>Strike type</th>\n",
       "      <th>Minimum strikes</th>\n",
       "      <th>Maximum strikes</th>\n",
       "      <th>Minimum people killed</th>\n",
       "      <th>Maximum people killed</th>\n",
       "      <th>Minimum civilians killed</th>\n",
       "      <th>Maximum civilians killed</th>\n",
       "      <th>Minimum children killed</th>\n",
       "      <th>Maximum children killed</th>\n",
       "      <th>Minimum people injured</th>\n",
       "      <th>Maximum people injured</th>\n",
       "      <th>Strike link</th>\n",
       "      <th>Unnamed: 18</th>\n",
       "      <th>Index</th>\n",
       "    </tr>\n",
       "  </thead>\n",
       "  <tbody>\n",
       "  </tbody>\n",
       "</table>\n",
       "</div>"
      ]
     },
     "execution_count": 77,
     "metadata": {},
     "output_type": "execute_result"
    }
   ],
   "source": [
    "US_Somalia_data.head(0)"
   ]
  },
  {
   "cell_type": "code",
   "execution_count": 74,
   "metadata": {},
   "outputs": [
    {
     "data": {
      "text/html": [
       "<div>\n",
       "<style scoped>\n",
       "    .dataframe tbody tr th:only-of-type {\n",
       "        vertical-align: middle;\n",
       "    }\n",
       "\n",
       "    .dataframe tbody tr th {\n",
       "        vertical-align: top;\n",
       "    }\n",
       "\n",
       "    .dataframe thead th {\n",
       "        text-align: right;\n",
       "    }\n",
       "</style>\n",
       "<table border=\"1\" class=\"dataframe\">\n",
       "  <thead>\n",
       "    <tr style=\"text-align: right;\">\n",
       "      <th></th>\n",
       "      <th>Strike ID</th>\n",
       "      <th>Date</th>\n",
       "      <th>Location</th>\n",
       "      <th>Province</th>\n",
       "      <th>Type of attack</th>\n",
       "      <th>Confirmed/\n",
       "possible US attack?</th>\n",
       "      <th>Air operation?</th>\n",
       "      <th>Drone strike</th>\n",
       "      <th>Minimum number of strikes</th>\n",
       "      <th>Maximum number of strikes</th>\n",
       "      <th>...</th>\n",
       "      <th>Maximum people killed</th>\n",
       "      <th>Minimum civilians reported killed</th>\n",
       "      <th>Maximum civilians reported killed</th>\n",
       "      <th>Minimum children reported killed</th>\n",
       "      <th>Maximum children reported killed</th>\n",
       "      <th>Minimum people injured</th>\n",
       "      <th>Maximum people injured</th>\n",
       "      <th>Strike link</th>\n",
       "      <th>Unnamed: 19</th>\n",
       "      <th>Index</th>\n",
       "    </tr>\n",
       "  </thead>\n",
       "  <tbody>\n",
       "  </tbody>\n",
       "</table>\n",
       "<p>0 rows × 21 columns</p>\n",
       "</div>"
      ],
      "text/plain": [
       "<div>\n",
       "<style scoped>\n",
       "    .dataframe tbody tr th:only-of-type {\n",
       "        vertical-align: middle;\n",
       "    }\n",
       "\n",
       "    .dataframe tbody tr th {\n",
       "        vertical-align: top;\n",
       "    }\n",
       "\n",
       "    .dataframe thead th {\n",
       "        text-align: right;\n",
       "    }\n",
       "</style>\n",
       "<table border=\"1\" class=\"dataframe\">\n",
       "  <thead>\n",
       "    <tr style=\"text-align: right;\">\n",
       "      <th></th>\n",
       "      <th>Strike ID</th>\n",
       "      <th>Date</th>\n",
       "      <th>Location</th>\n",
       "      <th>Province</th>\n",
       "      <th>Type of attack</th>\n",
       "      <th>Confirmed/\n",
       "possible US attack?</th>\n",
       "      <th>Air operation?</th>\n",
       "      <th>Drone strike</th>\n",
       "      <th>Minimum number of strikes</th>\n",
       "      <th>Maximum number of strikes</th>\n",
       "      <th>...</th>\n",
       "      <th>Maximum people killed</th>\n",
       "      <th>Minimum civilians reported killed</th>\n",
       "      <th>Maximum civilians reported killed</th>\n",
       "      <th>Minimum children reported killed</th>\n",
       "      <th>Maximum children reported killed</th>\n",
       "      <th>Minimum people injured</th>\n",
       "      <th>Maximum people injured</th>\n",
       "      <th>Strike link</th>\n",
       "      <th>Unnamed: 19</th>\n",
       "      <th>Index</th>\n",
       "    </tr>\n",
       "  </thead>\n",
       "  <tbody>\n",
       "  </tbody>\n",
       "</table>\n",
       "<p>0 rows × 21 columns</p>\n",
       "</div>"
      ]
     },
     "execution_count": 74,
     "metadata": {},
     "output_type": "execute_result"
    }
   ],
   "source": [
    "US_Yemen_data.head(0)"
   ]
  },
  {
   "cell_type": "code",
   "execution_count": 72,
   "metadata": {},
   "outputs": [
    {
     "data": {
      "text/html": [
       "<div>\n",
       "<style scoped>\n",
       "    .dataframe tbody tr th:only-of-type {\n",
       "        vertical-align: middle;\n",
       "    }\n",
       "\n",
       "    .dataframe tbody tr th {\n",
       "        vertical-align: top;\n",
       "    }\n",
       "\n",
       "    .dataframe thead th {\n",
       "        text-align: right;\n",
       "    }\n",
       "</style>\n",
       "<table border=\"1\" class=\"dataframe\">\n",
       "  <thead>\n",
       "    <tr style=\"text-align: right;\">\n",
       "      <th></th>\n",
       "      <th>Strike</th>\n",
       "      <th>Date</th>\n",
       "      <th>Village/local area</th>\n",
       "      <th>District</th>\n",
       "      <th>Province</th>\n",
       "      <th>Type of attack</th>\n",
       "      <th>Reportedly drone?</th>\n",
       "      <th>US confirmed?</th>\n",
       "      <th>US only source?</th>\n",
       "      <th>Counter-\n",
       "terrorism, force protection or strategic effects?</th>\n",
       "      <th>...</th>\n",
       "      <th>Maximum total people killed</th>\n",
       "      <th>Minimum civilians reported killed</th>\n",
       "      <th>Maximum civilians reported killed</th>\n",
       "      <th>Minimum children reported killed</th>\n",
       "      <th>Maximum children reported killed</th>\n",
       "      <th>Minimum reported injured</th>\n",
       "      <th>Maximum reported injured</th>\n",
       "      <th>Strike link</th>\n",
       "      <th>Timeline URL</th>\n",
       "      <th>Index</th>\n",
       "    </tr>\n",
       "  </thead>\n",
       "  <tbody>\n",
       "  </tbody>\n",
       "</table>\n",
       "<p>0 rows × 26 columns</p>\n",
       "</div>"
      ],
      "text/plain": [
       "<div>\n",
       "<style scoped>\n",
       "    .dataframe tbody tr th:only-of-type {\n",
       "        vertical-align: middle;\n",
       "    }\n",
       "\n",
       "    .dataframe tbody tr th {\n",
       "        vertical-align: top;\n",
       "    }\n",
       "\n",
       "    .dataframe thead th {\n",
       "        text-align: right;\n",
       "    }\n",
       "</style>\n",
       "<table border=\"1\" class=\"dataframe\">\n",
       "  <thead>\n",
       "    <tr style=\"text-align: right;\">\n",
       "      <th></th>\n",
       "      <th>Strike</th>\n",
       "      <th>Date</th>\n",
       "      <th>Village/local area</th>\n",
       "      <th>District</th>\n",
       "      <th>Province</th>\n",
       "      <th>Type of attack</th>\n",
       "      <th>Reportedly drone?</th>\n",
       "      <th>US confirmed?</th>\n",
       "      <th>US only source?</th>\n",
       "      <th>Counter-\n",
       "terrorism, force protection or strategic effects?</th>\n",
       "      <th>...</th>\n",
       "      <th>Maximum total people killed</th>\n",
       "      <th>Minimum civilians reported killed</th>\n",
       "      <th>Maximum civilians reported killed</th>\n",
       "      <th>Minimum children reported killed</th>\n",
       "      <th>Maximum children reported killed</th>\n",
       "      <th>Minimum reported injured</th>\n",
       "      <th>Maximum reported injured</th>\n",
       "      <th>Strike link</th>\n",
       "      <th>Timeline URL</th>\n",
       "      <th>Index</th>\n",
       "    </tr>\n",
       "  </thead>\n",
       "  <tbody>\n",
       "  </tbody>\n",
       "</table>\n",
       "<p>0 rows × 26 columns</p>\n",
       "</div>"
      ]
     },
     "execution_count": 72,
     "metadata": {},
     "output_type": "execute_result"
    }
   ],
   "source": [
    "US_Afghanistan_data.head(0)"
   ]
  },
  {
   "cell_type": "markdown",
   "metadata": {},
   "source": [
    "LOAD JSON FILE CREATED FROM CIA TWITTER FEED"
   ]
  },
  {
   "cell_type": "code",
   "execution_count": 12,
   "metadata": {},
   "outputs": [],
   "source": [
    "twitter_drone = json.load((open('Drone_Data/Drone_Data.json')))"
   ]
  },
  {
   "cell_type": "code",
   "execution_count": 14,
   "metadata": {},
   "outputs": [],
   "source": [
    "twitter_drone_data = pd.DataFrame(twitter_drone)"
   ]
  },
  {
   "cell_type": "code",
   "execution_count": null,
   "metadata": {
    "collapsed": true
   },
   "outputs": [],
   "source": []
  },
  {
   "cell_type": "code",
   "execution_count": null,
   "metadata": {
    "collapsed": true
   },
   "outputs": [],
   "source": []
  },
  {
   "cell_type": "code",
   "execution_count": null,
   "metadata": {
    "collapsed": true
   },
   "outputs": [],
   "source": []
  },
  {
   "cell_type": "code",
   "execution_count": null,
   "metadata": {
    "collapsed": true
   },
   "outputs": [],
   "source": []
  },
  {
   "cell_type": "code",
   "execution_count": null,
   "metadata": {
    "collapsed": true
   },
   "outputs": [],
   "source": []
  },
  {
   "cell_type": "code",
   "execution_count": null,
   "metadata": {
    "collapsed": true
   },
   "outputs": [],
   "source": []
  },
  {
   "cell_type": "code",
   "execution_count": null,
   "metadata": {
    "collapsed": true
   },
   "outputs": [],
   "source": []
  },
  {
   "cell_type": "code",
   "execution_count": null,
   "metadata": {
    "collapsed": true
   },
   "outputs": [],
   "source": []
  },
  {
   "cell_type": "code",
   "execution_count": null,
   "metadata": {
    "collapsed": true
   },
   "outputs": [],
   "source": []
  }
 ],
 "metadata": {
  "kernelspec": {
   "display_name": "Python 3",
   "language": "python",
   "name": "python3"
  },
  "language_info": {
   "codemirror_mode": {
    "name": "ipython",
    "version": 3
   },
   "file_extension": ".py",
   "mimetype": "text/x-python",
   "name": "python",
   "nbconvert_exporter": "python",
   "pygments_lexer": "ipython3",
   "version": "3.6.3"
  }
 },
 "nbformat": 4,
 "nbformat_minor": 1
}
